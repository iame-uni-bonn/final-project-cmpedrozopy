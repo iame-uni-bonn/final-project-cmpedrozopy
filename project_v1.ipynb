{
 "cells": [
  {
   "cell_type": "code",
   "execution_count": 25,
   "metadata": {},
   "outputs": [],
   "source": [
    "import os\n",
    "import numpy as np\n",
    "import pandas as pd\n",
    "import geopandas as gpd\n",
    "from geopy.distance import geodesic\n",
    "import pyreadstat"
   ]
  },
  {
   "cell_type": "code",
   "execution_count": 15,
   "metadata": {},
   "outputs": [],
   "source": [
    "#Write a function to do the same that I did with the distance_df data set\n",
    "def process_distance_data(input_file, output_file):\n",
    "    \"\"\"\n",
    "    Load a CSV file, rename a column for easier merging, and save the processed data as a new CSV file.\n",
    "    \n",
    "    Args:\n",
    "        input_file (str): Path to the input CSV file.\n",
    "        output_file (str): Path to save the output CSV file.\n",
    "    \"\"\"\n",
    "    distance_df = pd.read_csv(input_file, encoding='latin1')\n",
    "    distance_df.rename(columns={'country':'mission_country'}, inplace=True)\n",
    "    distance_df.to_csv(output_file, index=False)\n",
    "\n",
    "#Apply the function to \"C:\\Users\\HP\\Desktop\\Felipe\\Moises\\Distance\\Mission_coordinatesok.csv\" and save the output to \"C:\\Users\\HP\\Desktop\\Felipe\\Moises\\Distance\\epp\\distance_to_missions_epp.csv\"\n",
    "process_distance_data(\"C:/Users/HP/Desktop/Felipe/Moises/Distance/Mission_coordinatesok.csv\", \"C:/Users/HP/Desktop/Felipe/Moises/Distance/epp/distance_to_missions_epp.csv\")"
   ]
  },
  {
   "cell_type": "code",
   "execution_count": 16,
   "metadata": {},
   "outputs": [
    {
     "name": "stderr",
     "output_type": "stream",
     "text": [
      "C:\\Users\\HP\\AppData\\Local\\Temp\\ipykernel_2100\\3289591575.py:7: UserWarning: Geometry is in a geographic CRS. Results from 'centroid' are likely incorrect. Use 'GeoSeries.to_crs()' to re-project geometries to a projected CRS before this operation.\n",
      "\n",
      "  shape['centroid'] = shape.centroid\n",
      "C:\\Users\\HP\\AppData\\Local\\Temp\\ipykernel_2100\\3289591575.py:7: UserWarning: Geometry is in a geographic CRS. Results from 'centroid' are likely incorrect. Use 'GeoSeries.to_crs()' to re-project geometries to a projected CRS before this operation.\n",
      "\n",
      "  shape['centroid'] = shape.centroid\n",
      "C:\\Users\\HP\\AppData\\Local\\Temp\\ipykernel_2100\\3289591575.py:7: UserWarning: Geometry is in a geographic CRS. Results from 'centroid' are likely incorrect. Use 'GeoSeries.to_crs()' to re-project geometries to a projected CRS before this operation.\n",
      "\n",
      "  shape['centroid'] = shape.centroid\n",
      "C:\\Users\\HP\\AppData\\Local\\Temp\\ipykernel_2100\\3289591575.py:7: UserWarning: Geometry is in a geographic CRS. Results from 'centroid' are likely incorrect. Use 'GeoSeries.to_crs()' to re-project geometries to a projected CRS before this operation.\n",
      "\n",
      "  shape['centroid'] = shape.centroid\n",
      "C:\\Users\\HP\\AppData\\Local\\Temp\\ipykernel_2100\\3289591575.py:7: UserWarning: Geometry is in a geographic CRS. Results from 'centroid' are likely incorrect. Use 'GeoSeries.to_crs()' to re-project geometries to a projected CRS before this operation.\n",
      "\n",
      "  shape['centroid'] = shape.centroid\n"
     ]
    }
   ],
   "source": [
    "# Define the function to process shapefiles\n",
    "def shape_to_csv(department_path):\n",
    "    # Read and reproject the shp files\n",
    "    shape = gpd.read_file(department_path)\n",
    "    shape = shape.to_crs(epsg=4326)\n",
    "    # Calculate the centroid and extract the longitude and latitude\n",
    "    shape['centroid'] = shape.centroid\n",
    "    shape['longitude'] = shape['centroid'].x\n",
    "    shape['latitude'] = shape['centroid'].y\n",
    "    # Save as CSV in the same folder as the shapefile for easier access\n",
    "    output_csv = department_path.replace(\".shp\", \".csv\")\n",
    "    shape.to_csv(output_csv, index=False)\n",
    "\n",
    "# Root directory containing the folders and shapefiles\n",
    "root_dir = \"C:/Users/HP/Desktop/Felipe/Moises/Distance/shape_files\"\n",
    "\n",
    "# Go through all subdirectories and apply the function\n",
    "for root, dirs, files in os.walk(root_dir):\n",
    "    for file in files:\n",
    "        if file.endswith(\".shp\") and file.startswith(\"Distritos_\"):\n",
    "            department_path = os.path.join(root, file) \n",
    "            shape_to_csv(department_path)\n"
   ]
  },
  {
   "cell_type": "code",
   "execution_count": 17,
   "metadata": {},
   "outputs": [
    {
     "name": "stdout",
     "output_type": "stream",
     "text": [
      "Appending: C:/Users/HP/Desktop/Felipe/Moises/Distance/shape_files\\guaira_shp_data.csv\n",
      "Appending: C:/Users/HP/Desktop/Felipe/Moises/Distance/shape_files\\alto_parana\\Distritos_Alto_Parana.csv\n",
      "Appending: C:/Users/HP/Desktop/Felipe/Moises/Distance/shape_files\\caazapa\\Distritos_Caazapa.csv\n",
      "Appending: C:/Users/HP/Desktop/Felipe/Moises/Distance/shape_files\\guaira\\Distritos_Guaira.csv\n",
      "Appending: C:/Users/HP/Desktop/Felipe/Moises/Distance/shape_files\\itapua\\Distritos_Itapua.csv\n",
      "Appending: C:/Users/HP/Desktop/Felipe/Moises/Distance/shape_files\\misiones\\Distritos_Misiones.csv\n",
      "All CSV files appended and saved to: C:/Users/HP/Desktop/Felipe/Moises/Distance/epp/distritos_combined.csv\n"
     ]
    }
   ],
   "source": [
    "def append_csvs_to_one(output_file, root_dir):\n",
    "    # List to store individual DataFrames\n",
    "    all_data = []\n",
    "\n",
    "    # Walk through all subdirectories to find CSV files\n",
    "    for root, dirs, files in os.walk(root_dir):\n",
    "        for file in files:\n",
    "            if file.endswith(\".csv\"):  # Process only CSV files\n",
    "                file_path = os.path.join(root, file)\n",
    "                print(f\"Appending: {file_path}\")\n",
    "                # Read the CSV and append to the list\n",
    "                df = pd.read_csv(file_path)\n",
    "                all_data.append(df)\n",
    "\n",
    "    # Concatenate all DataFrames into one\n",
    "    deparmentos_shape_ok = pd.concat(all_data, ignore_index=True)\n",
    "    # Delete duplicates in CLAVE variable\n",
    "    deparmentos_shape_ok = deparmentos_shape_ok.drop_duplicates(subset=['CLAVE'])\n",
    "\n",
    "    # Save the combined DataFrame as a single CSV\n",
    "    deparmentos_shape_ok.to_csv(output_file, index=False)\n",
    "    print(f\"All CSV files appended and saved to: {output_file}\")\n",
    "\n",
    "#Apply the function\n",
    "root_dir = \"C:/Users/HP/Desktop/Felipe/Moises/Distance/shape_files\"\n",
    "output_file = \"C:/Users/HP/Desktop/Felipe/Moises/Distance/epp/distritos_combined.csv\"\n",
    "\n",
    "append_csvs_to_one(output_file, root_dir)"
   ]
  },
  {
   "cell_type": "code",
   "execution_count": 18,
   "metadata": {},
   "outputs": [
    {
     "name": "stdout",
     "output_type": "stream",
     "text": [
      "Closest missions have been calculated and saved!\n"
     ]
    }
   ],
   "source": [
    "\n",
    "# Function to compute the closest mission for each department\n",
    "def find_closest_location(distritos, missions):\n",
    "    # Normalize longitude and latitude, except for rows where DPTO_DESC == 'GUAIRÁ'\n",
    "    \n",
    "\n",
    "    results = []\n",
    "\n",
    "    for index, dep in distritos.iterrows():\n",
    "        # Skip if department coordinates are invalid\n",
    "        if pd.isna(dep['latitude']) or pd.isna(dep['longitude']):\n",
    "            continue\n",
    "\n",
    "        dep_coords = (dep['latitude'], dep['longitude'])\n",
    "        \n",
    "        # Calculate distances to all missions\n",
    "        missions['distance'] = missions.apply(\n",
    "            lambda x: geodesic(dep_coords, (x['latitude'], x['longitude'])).kilometers, axis=1\n",
    "        )\n",
    "        \n",
    "        # Find the closest mission\n",
    "        closest_mission = missions.loc[missions['distance'].idxmin()]\n",
    "        results.append({\n",
    "            'department_index': index,\n",
    "            'department_name': dep.get('DPTO_DESC', 'Unknown'),\n",
    "            'mission_name': closest_mission['mission_name'],\n",
    "            'mission_latitude': closest_mission['latitude'],\n",
    "            'mission_longitude': closest_mission['longitude'],\n",
    "            'distance_to_mission_km': closest_mission['distance']\n",
    "        })\n",
    "    \n",
    "    return pd.DataFrame(results)\n",
    "\n",
    "# Example usage\n",
    "distritos = pd.read_csv(\"C:/Users/HP/Desktop/Felipe/Moises/Distance/epp/distritos_combined.csv\")\n",
    "missions = pd.read_csv(\"C:/Users/HP/Desktop/Felipe/Moises/Distance/epp/distance_to_missions_epp.csv\")\n",
    "\n",
    "# Compute the closest missions\n",
    "closest_missions_df = find_closest_location(distritos, missions)\n",
    "\n",
    "# Save the results\n",
    "closest_missions_df.to_csv(\"C:/Users/HP/Desktop/Felipe/Moises/Distance/closest_missions.csv\", index=False)\n",
    "\n",
    "print(\"Closest missions have been calculated and saved!\")\n"
   ]
  },
  {
   "cell_type": "code",
   "execution_count": 29,
   "metadata": {},
   "outputs": [
    {
     "name": "stdout",
     "output_type": "stream",
     "text": [
      "   nro_cuestionario  tipo_formulario  departamento  distrito  localidad  \\\n",
      "0              1241                1            10       119        564   \n",
      "1              1265                2             8       114        550   \n",
      "2              1042                1             4       101        517   \n",
      "3              1089                2             8       110        531   \n",
      "4              1127                2             8       110        507   \n",
      "\n",
      "           s          o altitud  gps_nro  fecha_entrevista_dia  ...  \\\n",
      "0 -25.410032 -54.645100     227       21                    27  ...   \n",
      "1 -26.674168 -57.145817     136       21                    23  ...   \n",
      "2 -25.954933 -56.329567     139       12                    18  ...   \n",
      "3 -26.536833 -57.043083     124       21                    17  ...   \n",
      "4 -26.532932 -57.042450     132       22                    17  ...   \n",
      "\n",
      "   cheating2  rotter1 rotter2 rotter4  rotter5  rotter9  rotter  treatprime  \\\n",
      "0        1.0      5.0     4.0     4.0      4.0      4.0    33.0         0.0   \n",
      "1        0.0      4.0     3.0     4.0      4.0      3.0    34.0         0.0   \n",
      "2        1.0      5.0     4.0     4.0      4.0      2.0    34.0         0.0   \n",
      "3        1.0      5.0     4.0     5.0      5.0      1.0    41.0         0.0   \n",
      "4        0.0      4.0     4.0     4.0      4.0      4.0    35.0         0.0   \n",
      "\n",
      "  male  desirability  \n",
      "0  0.0     -0.300753  \n",
      "1  0.0     -0.300753  \n",
      "2  0.0     -0.300753  \n",
      "3  0.0     -0.300753  \n",
      "4  0.0     -0.300753  \n",
      "\n",
      "[5 rows x 211 columns]\n",
      "{'j00': {1: 'sí', 6: 'no'}, 'LABV': {1: 'diario', 2: 'más de una vez por semana', 3: 'una vez por semana', 4: 'una vez al mes', 5: 'una vez cada seis meses o un año', 6: 'nunca o casi nunca'}, 'i07': {1: 'muy practicante', 2: 'practicante', 3: 'algo practicante', 4: 'nada practicante'}, 'LABU': {1: 'sí', 6: 'no', 99: 'no sabe / no contesta'}, 'LABT': {1: 'sí', 6: 'no'}, 'i02': {1: 'católica', 2: 'protestante', 3: 'judía', 4: 'musulmán', 5: 'otra'}, 'LABS': {1: 'sí', 6: 'no'}, 'LABR': {1: 'independencia', 2: 'dedicación al trabajo', 3: 'sentido de responsabilidad', 4: 'imaginación', 5: 'tolerancia', 6: 'espíritu de ahorro', 7: 'determinación', 8: 'fe religiosa', 9: 'generosidad', 10: 'obediencia', 11: 'autoexpresión', 12: 'ninguna'}, 'LABQ': {1: 'muy importante', 2: 'importante', 3: 'ninguna de las dos', 4: 'poco importante', 5: 'nada importante'}, 'LABP': {1: 'se justifica mucho', 2: 'se justifica', 3: 'ninguna de las dos', 4: 'se justifica de a poco', 5: 'nunca se justifica'}, 'h28': {1: 'confio mucho', 2: 'confió', 3: 'ni confío ni desconfío', 4: 'desconfió', 5: 'desconfio mucho'}, 'LABO': {1: 'confio mucho', 2: 'confió', 3: 'ni confío ni desconfío', 4: 'desconfió', 5: 'desconfio mucho'}, 'LABN': {1: 'me identifica perfectamente', 2: 'me identifica', 3: 'ni me identifica ni no me identifica', 4: 'no me identifica', 5: 'no me identifica para nada'}, 'LABM': {1: 'me identifica perfectamente', 2: 'me identifica', 3: 'ni me identifica ni no me identifica', 4: 'no me identifica', 5: 'no me identifica para nada'}, 'LABL': {1: 'sí', 6: 'no'}, 'h11': {1: 'izquierda', 2: 'algo izquierda', 3: 'centro', 4: 'algo derecha', 5: 'derecha'}, 'LABK': {1: 'muy de acuerdo', 2: 'de acuerdo', 3: 'ni de acuerdo ni desacuerdo', 4: 'en desacuerdo', 5: 'muy en desacuerdo'}, 'LABJ': {1: 'muy dispuesto', 2: 'dispuesto', 3: 'ni dispuesto ni indispuesto', 4: 'poco dispuesto', 5: 'nada dispuesto'}, 'LABI': {0: 'incorrecto', 1: 'correcto'}, 'g01_1': {0: 'incorrecto', 1: 'correcto'}, 'g00': {1: 'participó', 6: 'no participó'}, 'e09_c': {1: 'muy de acuerdo', 2: 'de acuerdo', 3: 'ni de acuerdo ni desacuerdo', 4: 'en desacuerdo', 5: 'muy en desacuerdo', 99: 'no sabe / no contesta'}, 'e09_b': {1: 'muy de acuerdo', 2: 'de acuerdo', 3: 'ni de acuerdo ni desacuerdo', 4: 'en desacuerdo', 5: 'muy en desacuerdo'}, 'LABH': {1: 'muy de acuerdo', 2: 'de acuerdo', 3: 'ni de acuerdo ni desacuerdo', 4: 'en desacuerdo', 5: 'muy en desacuerdo'}, 'LABG': {0: 'incorrecto', 1: 'correcto'}, 'e08': {1: 'muy bueno', 2: 'bueno', 3: 'regular', 4: 'malo', 5: 'muy malo'}, 'e07': {1: 'bastante preocupado', 2: 'algo preocupado', 3: 'nada preocupado', 99: 'no sabe/no contesta'}, 'e06': {1: 'principalmente rutinarias', 6: 'principalmente creativas'}, 'e05': {1: 'principalmente manuales', 6: 'principalmente intelectuales'}, 'e04_1': {11: 'cónyuge/compañero(a)', 12: 'hijos', 13: 'otros parientes', 14: 'amigos/conocidos'}, 'e04': {1: 'sí', 6: 'no'}, 'e03': {1: 'solo guaraní', 2: 'guaraní y castellano', 3: 'solo castellano', 4: 'alemán'}, 'e02': {1: 'me transmitieron mis padres o parientes de manera oral o visual', 2: 'me transmitió oral o visual algún amigo de manera', 3: 'vi por la tele y/o escuche por la radio / internet', 4: 'estudie algún curso', 5: 'leí algún libro/revista'}, 'e01': {1: 'sí', 6: 'no'}, 'LABF': {1: 'sí', 6: 'no'}, 'd09': {1: 'sí', 6: 'no'}, 'd07': {1: 'no quiere trabajar', 2: 'se dedica a las labores del hogar', 3: 'estuvo enfermo', 4: 'es anciano', 5: 'es discapacitado', 6: 'jubilado', 7: 'falta de trabajo', 8: 'permiso por maternidad', 9: 'estudia', 10: 'búsqueda de trabajo', 11: 'retomando su negocio', 99: 'otro'}, 'd04': {1: 'actividades agropecuarias', 2: 'industrias manufactureras', 3: '. actividades de servicios: comercio, turismo, restaurantes, transporte servicios financieros, comunicación'}, 'd03': {1: 'empleado/ obrero público', 2: 'empleado/ obrero privado', 3: 'empleador o patrón', 4: 'cuenta propia', 5: 'empleados domésticos'}, 'd01': {1: 'trabajó', 6: 'no trabajó'}, 'c04': {1: 'todos nacieron en este país', 6: 'al menos uno extranjero o es inmigrante', 99: 'no sabe/no contesta'}, 'c03': {1: 'nació en este país', 6: 'es extranjero inmigrante en este país', 99: 'no sabe/no contesta'}, 'c02': {1: 'nació en este país', 6: 'es extranjero o inmigrante en este país', 99: 'no sabe/no contesta'}, 'c01': {1: 'indígena', 2: 'mestizo', 3: 'blanco', 4: 'asiático', 5: 'negro', 6: 'mulato', 7: 'guaraní'}, 'LABE': {1: 'sin instrucción', 2: 'primaria', 3: 'secundaria', 4: 'técnica o tecnológica', 5: 'universitaria'}, 'LABD': {1: 'sí', 6: 'no'}, 'b04': {1: 'un cuaderno', 2: 'hojas', 3: 'una agenda', 4: 'mentalmente', 5: 'no organiza'}, 'LABC': {1: 'sí', 6: 'no'}, 'b01': {1: 'sólo guaraní', 2: 'guaraní y castellano', 3: 'sólo castellano', 4: 'alemán', 5: 'portugues'}, 'a06': {1: 'sí', 6: 'no'}, 'LABB': {0: 'menos de 1 año'}, 'a05_2': {0: 'menos de 1 año'}, 'a05_1': {0: 'menos de 1 año'}, 'a04': {1: 'sí', 6: 'no'}, 'a03': {1: 'nació en este país', 6: 'es extranjero o inmigrante en este país'}, 'a02': {0: 'menos de 1 año'}, 'a01': {1: 'soltero(a', 2: 'casado(a)', 3: 'unido(a)/concubinado(a)', 4: 'separado(a)/divorciado(a)', 5: 'viudo(a)'}, 'donde_nacio': {1: 'nació en este país', 6: 'soy inmigrante en este país', 99: 'ns/nc'}, 'sexo': {1: 'hombre', 6: 'mujer'}, 'digitador': {1: 'hugo martinez', 2: 'martín pizzichini'}, 'critico': {10: 'cyndi páez'}, 'supervisor': {1: 'albino olmedo', 2: 'fátima piris'}, 'encuestador': {11: 'gladys ruiz', 12: 'pedro palacios', 13: 'sergio guerrero', 14: 'albino olmedo', 21: 'carolina escurra', 22: 'alan sánchez', 23: 'kristel mayeregger', 24: 'fátima piris', 25: 'mirta fretes'}, 'fecha_entrevista_mes': {9: 'septiembre', 10: 'octubre'}, 'localidad': {500: 'inmaculada concepción', 501: 'maría auxiliadora', 502: 'dulce nombre de jesús', 503: 'sagrado corazón de jesús', 504: 'costa hu', 505: 'san roque', 506: 'ciudad nueva', 507: 'boquerón', 508: 'cerro corá', 509: 'centro', 510: 'cristo rey', 511: 'loma clavel', 512: 'san Ángel', 513: 'virgen del pilar', 514: 'san isidro', 515: 'brisas', 516: 'cruz del sur', 517: 'san francisco', 518: 'centro', 519: 'arroyito', 520: 'primavera', 521: 'san salvador', 522: 'los cocos', 523: 'san josé', 524: 'san miguel', 525: 'las mercedes', 526: 'lourdes', 527: 'conavi', 528: 'caacupe', 529: 'villa universitaria', 530: 'fatima', 531: 'guarani', 532: 'san cayetano', 533: 'centro', 534: 'san vicente', 535: 'virgen de fátima', 536: 'san agustín', 537: 'san luis', 538: 'ciudad del este', 539: 'galeano cue', 540: 'san rafael', 541: 'santa teresita', 542: 'san blas', 543: 'san antonio', 544: 'santa inés', 545: 'san luis', 546: 'gral caballero', 547: 'maría goretti', 548: 'santo domingo', 549: 'concepción', 550: 'gral díaz', 551: 'gral. caballero', 552: 'pa´i coronel', 553: 'jazmín 2', 554: 'maría magdalena', 555: 'nueva esperanza', 556: 'centro catedral', 557: 'bernardino caballero', 558: 'villa nélida', 559: 'campo verde', 560: 'yhaguy', 561: 'calle 16', 562: 'santa mónica', 563: 'san carlos', 564: 'san pablo', 565: 'bella vista', 566: 'el trigal 3', 567: 'buena vista', 568: 'aguapey', 569: 'rivera del paraná', 570: 'san lorenzo', 571: 'villa nueva', 572: 'jardín', 600: 'centro san juan', 601: 'villa p.', 602: 'rivera san miguel', 603: 'centro', 604: 'santa catalina', 605: 'santa rosa', 606: 'central san pedro del parana', 607: 'sigfrido tischler', 608: 'san juan', 609: 'emiliano r. fernandez', 610: 'inmigrantes', 611: 'parque', 612: 'niño jesús', 613: 'barrio nuevo', 614: 'central alto verá', 615: 'centro san cosme y damian', 616: 'santa librada', 617: 'san ramon', 618: 'centro jesus', 619: 'rivera san cosme', 620: 'fracción residencial', 621: 'yvyay'}, 'distrito': {100: 'itapé', 101: 'Ñumí', 102: 'caazapá', 103: 'san juan nepomuceno', 104: 'yuty', 105: 'san pedro del paraná', 106: 'bella vista sur', 107: 'alto verá', 108: 'jesús', 109: 'trinidad', 110: 'san miguel', 111: 'san ignacio', 112: 'santa maría', 113: 'santa rosa', 114: 'san juan bautista', 115: 'santiago', 116: 'san cosme y damián', 117: 'encarnación', 118: 'minga guazú', 119: 'hernandarias'}, 'departamento': {4: 'guairá', 6: 'caazapá', 7: 'itapúa', 8: 'misiones', 10: 'alto paraná'}, 'tipo_formulario': {1: 'variable religión en penúltimo lugar', 2: 'variable religión en último lugar'}}\n"
     ]
    }
   ],
   "source": [
    "\n",
    "# Read the .dta file using pyreadstat\n",
    "survey_data, meta = pyreadstat.read_dta(\"C:/Users/HP/Desktop/Felipe/Encuesta/survey_final.dta\")\n",
    "\n",
    "# Display the first few rows\n",
    "print(survey_data.head())\n",
    "print(meta.value_labels)\n",
    "\n",
    "distrito_labels = meta.value_labels[meta.variable_to_label['distrito']]\n",
    "\n",
    "# Replace the codes in 'distrito' with their corresponding labels\n",
    "survey_data['distrito'] = survey_data['distrito'].map(distrito_labels)\n",
    "\n",
    "#Now, define a function for what I've just done\n",
    "def read_survey_data(input_file):\n",
    "    # Read the .dta file using pyreadstat\n",
    "    survey_data, meta = pyreadstat.read_dta(input_file)\n",
    "    # Replace the codes in 'distrito' with their corresponding labels\n",
    "    distrito_labels = meta.value_labels[meta.variable_to_label['distrito']]\n",
    "    survey_data['distrito'] = survey_data['distrito'].map(distrito_labels)\n",
    "\n",
    "#Apply the function to \"C:/Users/HP/Desktop/Felipe/Encuesta/survey_final.dta\"\n",
    "read_survey_data(\"C:/Users/HP/Desktop/Felipe/Encuesta/survey_final.dta\")"
   ]
  }
 ],
 "metadata": {
  "kernelspec": {
   "display_name": "project_mp",
   "language": "python",
   "name": "python3"
  },
  "language_info": {
   "codemirror_mode": {
    "name": "ipython",
    "version": 3
   },
   "file_extension": ".py",
   "mimetype": "text/x-python",
   "name": "python",
   "nbconvert_exporter": "python",
   "pygments_lexer": "ipython3",
   "version": "3.12.0"
  }
 },
 "nbformat": 4,
 "nbformat_minor": 2
}
