{
 "cells": [
  {
   "cell_type": "code",
   "execution_count": 18,
   "metadata": {},
   "outputs": [],
   "source": [
    "import os\n",
    "import numpy as np\n",
    "import matplotlib.pyplot as plt\n",
    "import pandas as pd\n",
    "import geopandas as gpd"
   ]
  },
  {
   "cell_type": "code",
   "execution_count": 19,
   "metadata": {},
   "outputs": [],
   "source": [
    "#Write a function to do the same that I did with the distance_df data set\n",
    "def process_distance_data(input_file, output_file):\n",
    "    \"\"\"\n",
    "    Load a CSV file, rename a column for easier merging, and save the processed data as a new CSV file.\n",
    "    \n",
    "    Args:\n",
    "        input_file (str): Path to the input CSV file.\n",
    "        output_file (str): Path to save the output CSV file.\n",
    "    \"\"\"\n",
    "    distance_df = pd.read_csv(input_file, encoding='latin1')\n",
    "    distance_df.rename(columns={'country':'mission_country'}, inplace=True)\n",
    "    distance_df.to_csv(output_file, index=False)\n",
    "\n",
    "#Apply the function to \"C:\\Users\\HP\\Desktop\\Felipe\\Moises\\Distance\\Mission_coordinatesok.csv\" and save the output to \"C:\\Users\\HP\\Desktop\\Felipe\\Moises\\Distance\\epp\\distance_to_missions_epp.csv\"\n",
    "process_distance_data(\"C:/Users/HP/Desktop/Felipe/Moises/Distance/Mission_coordinatesok.csv\", \"C:/Users/HP/Desktop/Felipe/Moises/Distance/epp/distance_to_missions_epp.csv\")"
   ]
  },
  {
   "cell_type": "code",
   "execution_count": 20,
   "metadata": {},
   "outputs": [],
   "source": [
    "# Define the function to process shapefiles\n",
    "def shape_to_csv(department_path):\n",
    "    # Read and reproject the shp files\n",
    "    shape = gpd.read_file(department_path)\n",
    "    shape = shape.to_crs(epsg=32721)\n",
    "    # Calculate the centroid and extract the longitude and latitude\n",
    "    shape['centroid'] = shape.centroid\n",
    "    shape['longitude'] = shape['centroid'].x\n",
    "    shape['latitude'] = shape['centroid'].y\n",
    "    # Save as CSV in the same folder as the shapefile for easier access\n",
    "    output_csv = department_path.replace(\".shp\", \".csv\")\n",
    "    shape.to_csv(output_csv, index=False)\n",
    "\n",
    "# Root directory containing the folders and shapefiles\n",
    "root_dir = \"C:/Users/HP/Desktop/Felipe/Moises/Distance/shape_files\"\n",
    "\n",
    "# Go through all subdirectories and apply the function\n",
    "for root, dirs, files in os.walk(root_dir):\n",
    "    for file in files:\n",
    "        if file.endswith(\".shp\") and file.startswith(\"Distritos_\"):\n",
    "            department_path = os.path.join(root, file) \n",
    "            shape_to_csv(department_path)\n"
   ]
  },
  {
   "cell_type": "code",
   "execution_count": 21,
   "metadata": {},
   "outputs": [
    {
     "name": "stdout",
     "output_type": "stream",
     "text": [
      "Appending: C:/Users/HP/Desktop/Felipe/Moises/Distance/shape_files\\guaira_shp_data.csv\n",
      "Appending: C:/Users/HP/Desktop/Felipe/Moises/Distance/shape_files\\alto_parana\\Distritos_Alto_Parana.csv\n",
      "Appending: C:/Users/HP/Desktop/Felipe/Moises/Distance/shape_files\\caazapa\\Distritos_Caazapa.csv\n",
      "Appending: C:/Users/HP/Desktop/Felipe/Moises/Distance/shape_files\\guaira\\Distritos_Guaira.csv\n",
      "Appending: C:/Users/HP/Desktop/Felipe/Moises/Distance/shape_files\\itapua\\Distritos_Itapua.csv\n",
      "Appending: C:/Users/HP/Desktop/Felipe/Moises/Distance/shape_files\\misiones\\Distritos_Misiones.csv\n",
      "All CSV files appended and saved to: C:/Users/HP/Desktop/Felipe/Moises/Distance/epp/distritos_combined.csv\n"
     ]
    }
   ],
   "source": [
    "def append_csvs_to_one(output_file, root_dir):\n",
    "    # List to store individual DataFrames\n",
    "    all_data = []\n",
    "\n",
    "    # Walk through all subdirectories to find CSV files\n",
    "    for root, dirs, files in os.walk(root_dir):\n",
    "        for file in files:\n",
    "            if file.endswith(\".csv\"):  # Process only CSV files\n",
    "                file_path = os.path.join(root, file)\n",
    "                print(f\"Appending: {file_path}\")\n",
    "                # Read the CSV and append to the list\n",
    "                df = pd.read_csv(file_path)\n",
    "                all_data.append(df)\n",
    "\n",
    "    # Concatenate all DataFrames into one\n",
    "    deparmentos_shape_ok = pd.concat(all_data, ignore_index=True)\n",
    "\n",
    "    # Save the combined DataFrame as a single CSV\n",
    "    deparmentos_shape_ok.to_csv(output_file, index=False)\n",
    "    print(f\"All CSV files appended and saved to: {output_file}\")\n",
    "\n",
    "#Apply the function\n",
    "root_dir = \"C:/Users/HP/Desktop/Felipe/Moises/Distance/shape_files\"\n",
    "output_file = \"C:/Users/HP/Desktop/Felipe/Moises/Distance/epp/distritos_combined.csv\"\n",
    "\n",
    "append_csvs_to_one(output_file, root_dir)"
   ]
  },
  {
   "cell_type": "code",
   "execution_count": 22,
   "metadata": {},
   "outputs": [],
   "source": [
    "#Now, generate distance variable for the departments centroid to the missions\n",
    "# Load the department data\n",
    "#departments = pd.read_csv(\"C:/Users/HP/Desktop/Felipe/Moises/Distance/epp/departments_combined.csv\")\n",
    "\n",
    "# Load the distance data\n",
    "#distance_to_missions = pd.read_csv(\"C:/Users/HP/Desktop/Felipe/Moises/Distance/epp/distance_to_missions_epp.csv\")\n",
    "\n",
    "# Merge the department and distance data\n",
    "#departments_distance = departments.merge(distance_to_missions, on='mission_country')\n"
   ]
  }
 ],
 "metadata": {
  "kernelspec": {
   "display_name": "epp",
   "language": "python",
   "name": "python3"
  },
  "language_info": {
   "codemirror_mode": {
    "name": "ipython",
    "version": 3
   },
   "file_extension": ".py",
   "mimetype": "text/x-python",
   "name": "python",
   "nbconvert_exporter": "python",
   "pygments_lexer": "ipython3",
   "version": "3.11.0"
  }
 },
 "nbformat": 4,
 "nbformat_minor": 2
}
